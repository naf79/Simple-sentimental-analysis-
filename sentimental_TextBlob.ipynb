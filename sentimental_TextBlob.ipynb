{
 "cells": [
  {
   "cell_type": "code",
   "execution_count": 1,
   "id": "066b380a",
   "metadata": {},
   "outputs": [],
   "source": [
    "# pip install textblob\n",
    "import re\n",
    "import csv\n",
    "from textblob import TextBlob\n",
    "pos =0\n",
    "neg=0\n",
    "review = []"
   ]
  },
  {
   "cell_type": "code",
   "execution_count": 2,
   "id": "50602212",
   "metadata": {},
   "outputs": [],
   "source": [
    "\n",
    "with open(r'rev_org3.csv', 'r',encoding = \"utf-8\") as f:\n",
    "    for line in f.read().split('\\n'):\n",
    "        review.append(line.strip())\n",
    "#         analysis = TextBlob(line)\n",
    "#         if analysis.sentiment.polarity > 0 :\n",
    "#             pos +=1\n",
    "#         else:\n",
    "#             neg +=1           "
   ]
  },
  {
   "cell_type": "code",
   "execution_count": 3,
   "id": "88cbe0d6",
   "metadata": {},
   "outputs": [],
   "source": [
    "REPLACE_NO_SPACE = re.compile(\"(\\;)|(\\:)|(\\!)|(\\')|(\\?)|(\\,)|(\\\")|(\\()|(\\))|(\\[)|(\\])|(\\d+)|(\\©)|(†)|(\\ھ)|(ط±)|(±)| (Weâ€™ll)|('(Translated by Google)')|('translated by google')| translated by google \")\n",
    "REPLACE_WITH_SPACE = re.compile(\"(\\.)|(<br\\s*/><br\\s*/>)|(\\-)|(\\/)|(😏)\")\n",
    "NO_SPACE = \"\"\n",
    "SPACE = \" \"\n",
    "\n",
    "def preprocess_reviews(reviews_train):\n",
    "    \n",
    "    reviews_train = [REPLACE_NO_SPACE.sub(NO_SPACE, line.lower()) for line in reviews_train]\n",
    "    reviews_train = [REPLACE_WITH_SPACE.sub(SPACE, line) for line in reviews_train]\n",
    "    \n",
    "    return reviews_train\n",
    "\n",
    "reviews_clean = preprocess_reviews(review)"
   ]
  },
  {
   "cell_type": "code",
   "execution_count": 4,
   "id": "0edbeeca",
   "metadata": {},
   "outputs": [
    {
     "data": {
      "text/plain": [
       "'\"1\",\"We’ll start with the bad:ALL the order was wrong.The pictures are deceiving and the bread is wrong.Didn’t clarify that the bread has sesame and one of us has a severe sesame allergy.Very rude workers and refused to change the order because they already made the wrong order.The good:tastes decent.Average price.Overall:First and last time we come here. If you’re 1-3 people, you may come here and check the receipt. Anymore people, you shouldn’t.\"'"
      ]
     },
     "execution_count": 4,
     "metadata": {},
     "output_type": "execute_result"
    }
   ],
   "source": [
    "review[1]"
   ]
  },
  {
   "cell_type": "code",
   "execution_count": 5,
   "id": "d8b6cc8d",
   "metadata": {
    "scrolled": true
   },
   "outputs": [
    {
     "data": {
      "text/plain": [
       "'we’ll start with the badall the order was wrong the pictures are deceiving and the bread is wrong didn’t clarify that the bread has sesame and one of us has a severe sesame allergy very rude workers and refused to change the order because they already made the wrong order the goodtastes decent average price overallfirst and last time we come here  if you’re   people you may come here and check the receipt  anymore people you shouldn’t '"
      ]
     },
     "execution_count": 5,
     "metadata": {},
     "output_type": "execute_result"
    }
   ],
   "source": [
    "\n",
    "reviews_clean[1]\n"
   ]
  },
  {
   "cell_type": "code",
   "execution_count": 6,
   "id": "d0521870",
   "metadata": {},
   "outputs": [],
   "source": [
    "reviews_org_B = []\n",
    "pattren = re.compile(\"(meat josie)|(Meat Josie)|(meat)|(Josie)|(MEAT)|(beef)|(Beef)\")\n",
    "for line in reviews_clean:\n",
    "    if pattren.search(line) != None:\n",
    "        reviews_org_B.append(line.rstrip())"
   ]
  },
  {
   "cell_type": "code",
   "execution_count": 7,
   "id": "e5017f0a",
   "metadata": {},
   "outputs": [
    {
     "data": {
      "text/plain": [
       "112"
      ]
     },
     "execution_count": 7,
     "metadata": {},
     "output_type": "execute_result"
    }
   ],
   "source": [
    "len(reviews_org_B)"
   ]
  },
  {
   "cell_type": "code",
   "execution_count": 8,
   "id": "cbd3a3e9",
   "metadata": {},
   "outputs": [
    {
     "name": "stdout",
     "output_type": "stream",
     "text": [
      "83\n",
      "29\n"
     ]
    }
   ],
   "source": [
    "for line in reviews_org_B:\n",
    "        analysis = TextBlob(line)\n",
    "        if analysis.sentiment.polarity > 0 :\n",
    "            pos +=1\n",
    "        else:\n",
    "            neg +=1     \n",
    "print(pos)\n",
    "print(neg)"
   ]
  }
 ],
 "metadata": {
  "kernelspec": {
   "display_name": "Python 3",
   "language": "python",
   "name": "python3"
  },
  "language_info": {
   "codemirror_mode": {
    "name": "ipython",
    "version": 3
   },
   "file_extension": ".py",
   "mimetype": "text/x-python",
   "name": "python",
   "nbconvert_exporter": "python",
   "pygments_lexer": "ipython3",
   "version": "3.8.8"
  }
 },
 "nbformat": 4,
 "nbformat_minor": 5
}
